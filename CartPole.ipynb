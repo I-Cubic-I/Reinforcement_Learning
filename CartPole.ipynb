{
 "cells": [
  {
   "cell_type": "code",
   "execution_count": 1,
   "metadata": {},
   "outputs": [],
   "source": [
    "import numpy as np\n",
    "import matplotlib.pyplot as plt\n",
    "%matplotlib inline\n",
    "import gym"
   ]
  },
  {
   "cell_type": "code",
   "execution_count": 2,
   "metadata": {},
   "outputs": [],
   "source": [
    "from JSAnimation.IPython_display import display_animation\n",
    "from matplotlib import animation\n",
    "from IPython.display import display\n",
    "from tqdm import tqdm\n",
    "\n",
    "def display_frames_as_gif(frames):\n",
    "    \"\"\"\n",
    "    Displays a list of frames as a gif, with controls\n",
    "    \"\"\"\n",
    "    plt.figure(figsize=(frames[0].shape[1]/72.0, frames[0].shape[0]/72.0), dpi=72)\n",
    "    patch = plt.imshow(frames[0])\n",
    "    plt.axis('off')\n",
    "    \n",
    "    def animate(i):\n",
    "        patch.set_data(frames[i])\n",
    "    \n",
    "    anim = animation.FuncAnimation(plt.gcf(), animate, frames=tqdm(range(len(frames))), interval=50)\n",
    "    anim.save('movie_cartpole_1.mp4')"
   ]
  },
  {
   "cell_type": "code",
   "execution_count": 3,
   "metadata": {},
   "outputs": [],
   "source": [
    "ENV = 'CartPole-v0'\n",
    "NUM_DIGITIZED = 6\n",
    "GAMMA = 0.99\n",
    "ETA = 0.5\n",
    "MAX_STEPS = 200\n",
    "NUM_EPISODES = 1000"
   ]
  },
  {
   "cell_type": "code",
   "execution_count": 4,
   "metadata": {},
   "outputs": [],
   "source": [
    "class Environment:\n",
    "    \n",
    "    def __init__(self):\n",
    "        self.env = gym.make(ENV)\n",
    "        num_states = self.env.observation_space.shape[0]\n",
    "        num_actions = self.env.action_space.n\n",
    "        self.agent = Agent(num_states, num_actions)\n",
    "        \n",
    "    def run(self):\n",
    "        complete_episodes = 0\n",
    "        is_episode_final = False\n",
    "        frames = []\n",
    "        \n",
    "        for episode in range(NUM_EPISODES):\n",
    "            observation = self.env.reset()\n",
    "            \n",
    "            for step in range(MAX_STEPS):\n",
    "                if is_episode_final is True:\n",
    "                    frames.append(self.env.render(mode='rgb_array'))\n",
    "                    \n",
    "                action = self.agent.get_action(observation, episode)\n",
    "                \n",
    "                observation_next, _, done, _ = self.env.step(action)\n",
    "                if done:\n",
    "                    if step < 195:\n",
    "                        reward = -1\n",
    "                        complete_episodes = 0\n",
    "                    else:\n",
    "                        reward = 1\n",
    "                        complete_episodes += 1\n",
    "                else:\n",
    "                    reward = 0\n",
    "                    \n",
    "                self.agent.update_Q_function(observation, action, reward, observation_next)\n",
    "                \n",
    "                observation = observation_next\n",
    "                \n",
    "                if done:\n",
    "                    print('{0} Episode: Finished after {1} time steps'.format(episode, step+1))\n",
    "                    break\n",
    "            \n",
    "            if is_episode_final is True:\n",
    "                display_frames_as_gif(frames)\n",
    "                break\n",
    "            \n",
    "            if complete_episodes >= 10:\n",
    "                print('10 에피소드 연속 성공')\n",
    "                is_episode_final = True"
   ]
  },
  {
   "cell_type": "code",
   "execution_count": 5,
   "metadata": {
    "scrolled": true
   },
   "outputs": [],
   "source": [
    "class Brain:\n",
    "    \n",
    "    def __init__(self, num_states, num_actions):\n",
    "        self.num_actions = num_actions\n",
    "        self.q_table = np.random.uniform(low=0, high=1, size=(NUM_DIGITIZED**num_states, num_actions))\n",
    "        \n",
    "    def bins(self, clip_min, clip_max, num):\n",
    "        return np.linspace(clip_min, clip_max, num+1)[1:-1]\n",
    "    \n",
    "    def digitize_state(self, observation):\n",
    "        # TODO bins 최적화, observation은 무엇인가\n",
    "        digitized = [np.digitize(param, bins=self.bins(-3.0, 3.0, NUM_DIGITIZED)) for param in observation]\n",
    "        return sum([x * (NUM_DIGITIZED**i) for i, x in enumerate(digitized)])\n",
    "    \n",
    "    def update_Q_table(self, observation, action, reward, observation_next):\n",
    "        state = self.digitize_state(observation)\n",
    "        state_next = self.digitize_state(observation_next)\n",
    "        Max_Q_next = max(self.q_table[state_next])\n",
    "        self.q_table[state, action] = self.q_table[state, action] + ETA*(reward + GAMMA*Max_Q_next - self.q_table[state, action])\n",
    "                         \n",
    "    def decide_action(self, observation, episode):\n",
    "        state = self.digitize_state(observation)\n",
    "        epsilon = 0.5 / (episode+1)\n",
    "        \n",
    "        if epsilon <= np.random.uniform(0, 1):\n",
    "            action = np.argmax(self.q_table[state][:])\n",
    "        else:\n",
    "            action = np.random.choice(self.num_actions)\n",
    "            \n",
    "        return action"
   ]
  },
  {
   "cell_type": "code",
   "execution_count": 6,
   "metadata": {},
   "outputs": [],
   "source": [
    "class Agent:\n",
    "    \n",
    "    def __init__(self, num_states, num_actions):\n",
    "        self.brain = Brain(num_states, num_actions)\n",
    "        \n",
    "    def update_Q_function(self, observation, action, reward, observation_next):\n",
    "        self.brain.update_Q_table(observation, action, reward, observation_next)\n",
    "        \n",
    "    def get_action(self, observation, step):\n",
    "        action = self.brain.decide_action(observation, step)\n",
    "        return action"
   ]
  },
  {
   "cell_type": "code",
   "execution_count": 7,
   "metadata": {
    "scrolled": true
   },
   "outputs": [
    {
     "name": "stdout",
     "output_type": "stream",
     "text": [
      "0 Episode: Finished after 16 time steps\n",
      "1 Episode: Finished after 13 time steps\n",
      "2 Episode: Finished after 37 time steps\n",
      "3 Episode: Finished after 37 time steps\n",
      "4 Episode: Finished after 11 time steps\n",
      "5 Episode: Finished after 15 time steps\n",
      "6 Episode: Finished after 17 time steps\n",
      "7 Episode: Finished after 9 time steps\n",
      "8 Episode: Finished after 32 time steps\n",
      "9 Episode: Finished after 10 time steps\n",
      "10 Episode: Finished after 30 time steps\n",
      "11 Episode: Finished after 12 time steps\n",
      "12 Episode: Finished after 19 time steps\n",
      "13 Episode: Finished after 32 time steps\n",
      "14 Episode: Finished after 9 time steps\n",
      "15 Episode: Finished after 10 time steps\n",
      "16 Episode: Finished after 24 time steps\n",
      "17 Episode: Finished after 23 time steps\n",
      "18 Episode: Finished after 32 time steps\n",
      "19 Episode: Finished after 18 time steps\n",
      "20 Episode: Finished after 47 time steps\n",
      "21 Episode: Finished after 13 time steps\n",
      "22 Episode: Finished after 12 time steps\n",
      "23 Episode: Finished after 17 time steps\n",
      "24 Episode: Finished after 11 time steps\n",
      "25 Episode: Finished after 12 time steps\n",
      "26 Episode: Finished after 30 time steps\n",
      "27 Episode: Finished after 39 time steps\n",
      "28 Episode: Finished after 11 time steps\n",
      "29 Episode: Finished after 10 time steps\n",
      "30 Episode: Finished after 103 time steps\n",
      "31 Episode: Finished after 25 time steps\n",
      "32 Episode: Finished after 53 time steps\n",
      "33 Episode: Finished after 67 time steps\n",
      "34 Episode: Finished after 39 time steps\n",
      "35 Episode: Finished after 29 time steps\n",
      "36 Episode: Finished after 40 time steps\n",
      "37 Episode: Finished after 12 time steps\n",
      "38 Episode: Finished after 11 time steps\n",
      "39 Episode: Finished after 32 time steps\n",
      "40 Episode: Finished after 21 time steps\n",
      "41 Episode: Finished after 30 time steps\n",
      "42 Episode: Finished after 79 time steps\n",
      "43 Episode: Finished after 22 time steps\n",
      "44 Episode: Finished after 31 time steps\n",
      "45 Episode: Finished after 111 time steps\n",
      "46 Episode: Finished after 47 time steps\n",
      "47 Episode: Finished after 50 time steps\n",
      "48 Episode: Finished after 106 time steps\n",
      "49 Episode: Finished after 124 time steps\n",
      "50 Episode: Finished after 142 time steps\n",
      "51 Episode: Finished after 51 time steps\n",
      "52 Episode: Finished after 28 time steps\n",
      "53 Episode: Finished after 80 time steps\n",
      "54 Episode: Finished after 41 time steps\n",
      "55 Episode: Finished after 45 time steps\n",
      "56 Episode: Finished after 97 time steps\n",
      "57 Episode: Finished after 200 time steps\n",
      "58 Episode: Finished after 200 time steps\n",
      "59 Episode: Finished after 73 time steps\n",
      "60 Episode: Finished after 9 time steps\n",
      "61 Episode: Finished after 101 time steps\n",
      "62 Episode: Finished after 161 time steps\n",
      "63 Episode: Finished after 93 time steps\n",
      "64 Episode: Finished after 164 time steps\n",
      "65 Episode: Finished after 117 time steps\n",
      "66 Episode: Finished after 12 time steps\n",
      "67 Episode: Finished after 32 time steps\n",
      "68 Episode: Finished after 135 time steps\n",
      "69 Episode: Finished after 167 time steps\n",
      "70 Episode: Finished after 102 time steps\n",
      "71 Episode: Finished after 144 time steps\n",
      "72 Episode: Finished after 65 time steps\n",
      "73 Episode: Finished after 97 time steps\n",
      "74 Episode: Finished after 82 time steps\n",
      "75 Episode: Finished after 95 time steps\n",
      "76 Episode: Finished after 41 time steps\n",
      "77 Episode: Finished after 125 time steps\n",
      "78 Episode: Finished after 111 time steps\n",
      "79 Episode: Finished after 74 time steps\n",
      "80 Episode: Finished after 63 time steps\n",
      "81 Episode: Finished after 39 time steps\n",
      "82 Episode: Finished after 8 time steps\n",
      "83 Episode: Finished after 200 time steps\n",
      "84 Episode: Finished after 152 time steps\n",
      "85 Episode: Finished after 47 time steps\n",
      "86 Episode: Finished after 200 time steps\n",
      "87 Episode: Finished after 48 time steps\n",
      "88 Episode: Finished after 58 time steps\n",
      "89 Episode: Finished after 96 time steps\n",
      "90 Episode: Finished after 86 time steps\n",
      "91 Episode: Finished after 198 time steps\n",
      "92 Episode: Finished after 46 time steps\n",
      "93 Episode: Finished after 105 time steps\n",
      "94 Episode: Finished after 32 time steps\n",
      "95 Episode: Finished after 23 time steps\n",
      "96 Episode: Finished after 81 time steps\n",
      "97 Episode: Finished after 66 time steps\n",
      "98 Episode: Finished after 25 time steps\n",
      "99 Episode: Finished after 15 time steps\n",
      "100 Episode: Finished after 92 time steps\n",
      "101 Episode: Finished after 29 time steps\n",
      "102 Episode: Finished after 21 time steps\n",
      "103 Episode: Finished after 164 time steps\n",
      "104 Episode: Finished after 78 time steps\n",
      "105 Episode: Finished after 58 time steps\n",
      "106 Episode: Finished after 13 time steps\n",
      "107 Episode: Finished after 11 time steps\n",
      "108 Episode: Finished after 59 time steps\n",
      "109 Episode: Finished after 62 time steps\n",
      "110 Episode: Finished after 88 time steps\n",
      "111 Episode: Finished after 9 time steps\n",
      "112 Episode: Finished after 15 time steps\n",
      "113 Episode: Finished after 38 time steps\n",
      "114 Episode: Finished after 137 time steps\n",
      "115 Episode: Finished after 97 time steps\n",
      "116 Episode: Finished after 130 time steps\n",
      "117 Episode: Finished after 200 time steps\n",
      "118 Episode: Finished after 117 time steps\n",
      "119 Episode: Finished after 200 time steps\n",
      "120 Episode: Finished after 140 time steps\n",
      "121 Episode: Finished after 126 time steps\n",
      "122 Episode: Finished after 109 time steps\n",
      "123 Episode: Finished after 144 time steps\n",
      "124 Episode: Finished after 127 time steps\n",
      "125 Episode: Finished after 126 time steps\n",
      "126 Episode: Finished after 175 time steps\n",
      "127 Episode: Finished after 128 time steps\n",
      "128 Episode: Finished after 200 time steps\n",
      "129 Episode: Finished after 103 time steps\n",
      "130 Episode: Finished after 127 time steps\n",
      "131 Episode: Finished after 200 time steps\n",
      "132 Episode: Finished after 187 time steps\n",
      "133 Episode: Finished after 128 time steps\n",
      "134 Episode: Finished after 162 time steps\n",
      "135 Episode: Finished after 103 time steps\n",
      "136 Episode: Finished after 200 time steps\n",
      "137 Episode: Finished after 147 time steps\n",
      "138 Episode: Finished after 112 time steps\n",
      "139 Episode: Finished after 142 time steps\n",
      "140 Episode: Finished after 135 time steps\n",
      "141 Episode: Finished after 165 time steps\n",
      "142 Episode: Finished after 147 time steps\n",
      "143 Episode: Finished after 149 time steps\n",
      "144 Episode: Finished after 151 time steps\n",
      "145 Episode: Finished after 179 time steps\n",
      "146 Episode: Finished after 70 time steps\n",
      "147 Episode: Finished after 186 time steps\n",
      "148 Episode: Finished after 146 time steps\n",
      "149 Episode: Finished after 77 time steps\n",
      "150 Episode: Finished after 140 time steps\n",
      "151 Episode: Finished after 200 time steps\n",
      "152 Episode: Finished after 200 time steps\n",
      "153 Episode: Finished after 200 time steps\n",
      "154 Episode: Finished after 200 time steps\n",
      "155 Episode: Finished after 79 time steps\n",
      "156 Episode: Finished after 200 time steps\n",
      "157 Episode: Finished after 200 time steps\n",
      "158 Episode: Finished after 200 time steps\n",
      "159 Episode: Finished after 200 time steps\n",
      "160 Episode: Finished after 200 time steps\n",
      "161 Episode: Finished after 200 time steps\n",
      "162 Episode: Finished after 200 time steps\n",
      "163 Episode: Finished after 200 time steps\n",
      "164 Episode: Finished after 200 time steps\n",
      "165 Episode: Finished after 200 time steps\n",
      "10 에피소드 연속 성공\n"
     ]
    },
    {
     "name": "stderr",
     "output_type": "stream",
     "text": [
      "  1%|▊                                                                                 | 1/106 [00:00<00:12,  8.72it/s]"
     ]
    },
    {
     "name": "stdout",
     "output_type": "stream",
     "text": [
      "166 Episode: Finished after 106 time steps\n"
     ]
    },
    {
     "name": "stderr",
     "output_type": "stream",
     "text": [
      " 97%|█████████████████████████████████████████████████████████████████████████████▋  | 103/106 [00:01<00:00, 55.46it/s]\n"
     ]
    },
    {
     "data": {
      "image/png": "[encoded data removed]",
      "text/plain": [
       "<Figure size 600x400 with 1 Axes>"
      ]
     },
     "metadata": {
      "needs_background": "light"
     },
     "output_type": "display_data"
    }
   ],
   "source": [
    "c_env = Environment()\n",
    "c_env.run()"
   ]
  },
  {
   "cell_type": "code",
   "execution_count": 8,
   "metadata": {},
   "outputs": [
    {
     "data": {
      "text/html": [
       "<video width=\"900\" height=\"400\" controls>\n",
       "    <source src=movie_cartpole_1.mp4 type=\"video/mp4\">\n",
       "    </video>"
      ],
      "text/plain": [
       "<IPython.core.display.HTML object>"
      ]
     },
     "execution_count": 8,
     "metadata": {},
     "output_type": "execute_result"
    }
   ],
   "source": [
    "def show_video_in_jupyter_nb(width, height, video_url):\n",
    "    from IPython.display import HTML\n",
    "    return HTML(\"\"\"<video width=\"{}\" height=\"{}\" controls>\n",
    "    <source src={} type=\"video/mp4\">\n",
    "    </video>\"\"\".format(width, height, video_url))\n",
    "video_url = 'movie_cartpole_1.mp4'\n",
    "show_video_in_jupyter_nb(900, 400,video_url)"
   ]
  }
 ],
 "metadata": {
  "kernelspec": {
   "display_name": "Python 3",
   "language": "python",
   "name": "python3"
  },
  "language_info": {
   "codemirror_mode": {
    "name": "ipython",
    "version": 3
   },
   "file_extension": ".py",
   "mimetype": "text/x-python",
   "name": "python",
   "nbconvert_exporter": "python",
   "pygments_lexer": "ipython3",
   "version": "3.7.6"
  },
  "toc": {
   "base_numbering": 1,
   "nav_menu": {},
   "number_sections": true,
   "sideBar": true,
   "skip_h1_title": false,
   "title_cell": "Table of Contents",
   "title_sidebar": "Contents",
   "toc_cell": false,
   "toc_position": {},
   "toc_section_display": true,
   "toc_window_display": false
  },
  "varInspector": {
   "cols": {
    "lenName": 16,
    "lenType": 16,
    "lenVar": 40
   },
   "kernels_config": {
    "python": {
     "delete_cmd_postfix": "",
     "delete_cmd_prefix": "del ",
     "library": "var_list.py",
     "varRefreshCmd": "print(var_dic_list())"
    },
    "r": {
     "delete_cmd_postfix": ") ",
     "delete_cmd_prefix": "rm(",
     "library": "var_list.r",
     "varRefreshCmd": "cat(var_dic_list()) "
    }
   },
   "types_to_exclude": [
    "module",
    "function",
    "builtin_function_or_method",
    "instance",
    "_Feature"
   ],
   "window_display": false
  }
 },
 "nbformat": 4,
 "nbformat_minor": 4
}
